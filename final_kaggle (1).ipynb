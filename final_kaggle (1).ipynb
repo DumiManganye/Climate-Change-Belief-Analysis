{
  "nbformat": 4,
  "nbformat_minor": 0,
  "metadata": {
    "kernelspec": {
      "display_name": "Python 3",
      "language": "python",
      "name": "python3"
    },
    "language_info": {
      "codemirror_mode": {
        "name": "ipython",
        "version": 3
      },
      "file_extension": ".py",
      "mimetype": "text/x-python",
      "name": "python",
      "nbconvert_exporter": "python",
      "pygments_lexer": "ipython3",
      "version": "3.7.6"
    },
    "papermill": {
      "duration": 134.49018,
      "end_time": "2020-10-01T13:57:55.526568",
      "environment_variables": {},
      "exception": null,
      "input_path": "__notebook__.ipynb",
      "output_path": "__notebook__.ipynb",
      "parameters": {},
      "start_time": "2020-10-01T13:55:41.036388",
      "version": "2.1.0"
    },
    "colab": {
      "name": "final_kaggle.ipynb",
      "provenance": []
    }
  },
  "cells": [
    {
      "cell_type": "markdown",
      "metadata": {
        "papermill": {
          "duration": 0.043063,
          "end_time": "2020-10-01T13:55:45.913445",
          "exception": false,
          "start_time": "2020-10-01T13:55:45.870382",
          "status": "completed"
        },
        "tags": [],
        "id": "ilXMAUI7UkD0"
      },
      "source": [
        "### PANDAS TO READ CSV FILE NUMPY FOR ANY USE CASE"
      ]
    },
    {
      "cell_type": "code",
      "metadata": {
        "_cell_guid": "79c7e3d0-c299-4dcb-8224-4455121ee9b0",
        "_uuid": "d629ff2d2480ee46fbb7e2d37f6b5fab8052498a",
        "execution": {
          "iopub.execute_input": "2020-10-01T13:55:46.005222Z",
          "iopub.status.busy": "2020-10-01T13:55:46.004275Z",
          "iopub.status.idle": "2020-10-01T13:55:46.007688Z",
          "shell.execute_reply": "2020-10-01T13:55:46.008538Z"
        },
        "papermill": {
          "duration": 0.049232,
          "end_time": "2020-10-01T13:55:46.008739",
          "exception": false,
          "start_time": "2020-10-01T13:55:45.959507",
          "status": "completed"
        },
        "tags": [],
        "id": "8fw69h2bUkD3"
      },
      "source": [
        "import pandas as pd\n",
        "import numpy as np"
      ],
      "execution_count": null,
      "outputs": []
    },
    {
      "cell_type": "code",
      "metadata": {
        "execution": {
          "iopub.execute_input": "2020-10-01T13:55:46.104564Z",
          "iopub.status.busy": "2020-10-01T13:55:46.102755Z",
          "iopub.status.idle": "2020-10-01T13:55:46.210258Z",
          "shell.execute_reply": "2020-10-01T13:55:46.211533Z"
        },
        "papermill": {
          "duration": 0.157202,
          "end_time": "2020-10-01T13:55:46.211749",
          "exception": false,
          "start_time": "2020-10-01T13:55:46.054547",
          "status": "completed"
        },
        "tags": [],
        "id": "U-GOA4WFUkEJ"
      },
      "source": [
        "train_data = pd.read_csv('train.csv')"
      ],
      "execution_count": null,
      "outputs": []
    },
    {
      "cell_type": "code",
      "metadata": {
        "execution": {
          "iopub.execute_input": "2020-10-01T13:55:46.294608Z",
          "iopub.status.busy": "2020-10-01T13:55:46.293554Z",
          "iopub.status.idle": "2020-10-01T13:55:46.302679Z",
          "shell.execute_reply": "2020-10-01T13:55:46.303310Z"
        },
        "papermill": {
          "duration": 0.051392,
          "end_time": "2020-10-01T13:55:46.303473",
          "exception": false,
          "start_time": "2020-10-01T13:55:46.252081",
          "status": "completed"
        },
        "tags": [],
        "id": "bCUQ4xv-UkET"
      },
      "source": [
        "train_data.head(3)"
      ],
      "execution_count": null,
      "outputs": []
    },
    {
      "cell_type": "markdown",
      "metadata": {
        "papermill": {
          "duration": 0.027435,
          "end_time": "2020-10-01T13:55:46.488445",
          "exception": false,
          "start_time": "2020-10-01T13:55:46.461010",
          "status": "completed"
        },
        "tags": [],
        "id": "4BJpqYkXUkE1"
      },
      "source": [
        "Lets Know the size of our training"
      ]
    },
    {
      "cell_type": "code",
      "metadata": {
        "execution": {
          "iopub.execute_input": "2020-10-01T13:55:46.548657Z",
          "iopub.status.busy": "2020-10-01T13:55:46.547840Z",
          "iopub.status.idle": "2020-10-01T13:55:46.551328Z",
          "shell.execute_reply": "2020-10-01T13:55:46.551838Z"
        },
        "papermill": {
          "duration": 0.036211,
          "end_time": "2020-10-01T13:55:46.551972",
          "exception": false,
          "start_time": "2020-10-01T13:55:46.515761",
          "status": "completed"
        },
        "tags": [],
        "id": "umXlOZIMUkE4"
      },
      "source": [
        "size = train_data.shape[0]\n",
        "print(size)"
      ],
      "execution_count": null,
      "outputs": []
    },
    {
      "cell_type": "code",
      "metadata": {
        "execution": {
          "iopub.execute_input": "2020-10-01T13:55:46.612712Z",
          "iopub.status.busy": "2020-10-01T13:55:46.611885Z",
          "iopub.status.idle": "2020-10-01T13:55:47.830483Z",
          "shell.execute_reply": "2020-10-01T13:55:47.829315Z"
        },
        "papermill": {
          "duration": 1.250838,
          "end_time": "2020-10-01T13:55:47.830617",
          "exception": false,
          "start_time": "2020-10-01T13:55:46.579779",
          "status": "completed"
        },
        "tags": [],
        "id": "Y4PPk9jnUkFI"
      },
      "source": [
        "import seaborn as sns\n",
        "sns.countplot(train_data['sentiment'])"
      ],
      "execution_count": null,
      "outputs": []
    },
    {
      "cell_type": "markdown",
      "metadata": {
        "papermill": {
          "duration": 0.03339,
          "end_time": "2020-10-01T13:55:47.897554",
          "exception": false,
          "start_time": "2020-10-01T13:55:47.864164",
          "status": "completed"
        },
        "tags": [],
        "id": "HgNU9T_WUkFa"
      },
      "source": [
        "### LIBRARIES FOR PREPROCESSING TEXT"
      ]
    },
    {
      "cell_type": "code",
      "metadata": {
        "execution": {
          "iopub.execute_input": "2020-10-01T13:55:47.972593Z",
          "iopub.status.busy": "2020-10-01T13:55:47.971716Z",
          "iopub.status.idle": "2020-10-01T13:55:49.062301Z",
          "shell.execute_reply": "2020-10-01T13:55:49.063169Z"
        },
        "papermill": {
          "duration": 1.131461,
          "end_time": "2020-10-01T13:55:49.063375",
          "exception": false,
          "start_time": "2020-10-01T13:55:47.931914",
          "status": "completed"
        },
        "tags": [],
        "id": "7CURGZWlUkFc"
      },
      "source": [
        "import nltk\n",
        "import re\n",
        "nltk.download('stopwords')\n",
        "from nltk.corpus import stopwords\n",
        "from nltk.stem.porter import PorterStemmer"
      ],
      "execution_count": null,
      "outputs": []
    },
    {
      "cell_type": "markdown",
      "metadata": {
        "papermill": {
          "duration": 0.045915,
          "end_time": "2020-10-01T13:55:49.154573",
          "exception": false,
          "start_time": "2020-10-01T13:55:49.108658",
          "status": "completed"
        },
        "tags": [],
        "id": "KQshqWdeUkFu"
      },
      "source": [
        "### PREPRAING CORPUS OUT OF THE TEXT\n",
        "I created a function corpus_tweets to create a corpus of sentences containing lametized words . \n",
        "<br> Creating the function would ease the work further .\n",
        "<br> The corpus will exactly have the tweets converted into list of tweets where the words are lametized. "
      ]
    },
    {
      "cell_type": "code",
      "metadata": {
        "execution": {
          "iopub.execute_input": "2020-10-01T13:55:49.253590Z",
          "iopub.status.busy": "2020-10-01T13:55:49.252427Z",
          "iopub.status.idle": "2020-10-01T13:57:04.754273Z",
          "shell.execute_reply": "2020-10-01T13:57:04.753089Z"
        },
        "papermill": {
          "duration": 75.555296,
          "end_time": "2020-10-01T13:57:04.754407",
          "exception": false,
          "start_time": "2020-10-01T13:55:49.199111",
          "status": "completed"
        },
        "tags": [],
        "id": "YXQOZWBhUkFw"
      },
      "source": [
        "def prepare_corpus(tweets):\n",
        "  corpus_tweets = []\n",
        "  size = tweets.shape[0]\n",
        "  ps = PorterStemmer()\n",
        "  for i in range(0,size):\n",
        "    tweet = re.sub(pattern='[^a-zA-Z]',repl=' ', string=tweets['message'][i])\n",
        "\n",
        "    tweet = re.sub(pattern='user' , repl='' , string = tweet)\n",
        "\n",
        "    tweet = tweet.lower()\n",
        "\n",
        "    words = tweet.split()\n",
        "\n",
        "    words = [ps.stem(word) for word in words if not word in stopwords.words('english')]\n",
        "\n",
        "    tweet = ' '.join(words)\n",
        "\n",
        "    corpus_tweets.append(tweet)\n",
        "  return corpus_tweets\n",
        "\n",
        "corpus_tweets_train = prepare_corpus(train_data)"
      ],
      "execution_count": null,
      "outputs": []
    },
    {
      "cell_type": "code",
      "metadata": {
        "execution": {
          "iopub.execute_input": "2020-10-01T13:57:04.824455Z",
          "iopub.status.busy": "2020-10-01T13:57:04.823127Z",
          "iopub.status.idle": "2020-10-01T13:57:04.827088Z",
          "shell.execute_reply": "2020-10-01T13:57:04.827652Z"
        },
        "papermill": {
          "duration": 0.041651,
          "end_time": "2020-10-01T13:57:04.827777",
          "exception": false,
          "start_time": "2020-10-01T13:57:04.786126",
          "status": "completed"
        },
        "tags": [],
        "id": "M3uvH9V0UkF8"
      },
      "source": [
        "corpus_tweets_train[0:2]"
      ],
      "execution_count": null,
      "outputs": []
    },
    {
      "cell_type": "markdown",
      "metadata": {
        "papermill": {
          "duration": 0.030758,
          "end_time": "2020-10-01T13:57:04.889274",
          "exception": false,
          "start_time": "2020-10-01T13:57:04.858516",
          "status": "completed"
        },
        "tags": [],
        "id": "DqiszCv8UkGM"
      },
      "source": [
        "### TFIDF Vectorizer\n",
        "Its is required to convert the corpus into meanigful sum of numbers . \n",
        "<br>TFIDF vectorizer performs well text preprocessing than count vectorizer . "
      ]
    },
    {
      "cell_type": "code",
      "metadata": {
        "execution": {
          "iopub.execute_input": "2020-10-01T13:57:04.977717Z",
          "iopub.status.busy": "2020-10-01T13:57:04.967467Z",
          "iopub.status.idle": "2020-10-01T13:57:06.280982Z",
          "shell.execute_reply": "2020-10-01T13:57:06.281898Z"
        },
        "papermill": {
          "duration": 1.362997,
          "end_time": "2020-10-01T13:57:06.282142",
          "exception": false,
          "start_time": "2020-10-01T13:57:04.919145",
          "status": "completed"
        },
        "tags": [],
        "id": "Tc5VvTfPUkGP"
      },
      "source": [
        "from sklearn.feature_extraction.text import TfidfVectorizer\n",
        "tfidf = TfidfVectorizer(max_features=7000)\n",
        "X_tfidf = tfidf.fit_transform(corpus_tweets_train).toarray()\n",
        "y_ifidf = train_data['sentiment'].values"
      ],
      "execution_count": null,
      "outputs": []
    },
    {
      "cell_type": "code",
      "metadata": {
        "execution": {
          "iopub.execute_input": "2020-10-01T13:57:06.390145Z",
          "iopub.status.busy": "2020-10-01T13:57:06.389217Z",
          "iopub.status.idle": "2020-10-01T13:57:06.395007Z",
          "shell.execute_reply": "2020-10-01T13:57:06.395768Z"
        },
        "papermill": {
          "duration": 0.060366,
          "end_time": "2020-10-01T13:57:06.395962",
          "exception": false,
          "start_time": "2020-10-01T13:57:06.335596",
          "status": "completed"
        },
        "tags": [],
        "id": "EoPPW1wMUkGb"
      },
      "source": [
        "X_tfidf[0:2]"
      ],
      "execution_count": null,
      "outputs": []
    },
    {
      "cell_type": "markdown",
      "metadata": {
        "papermill": {
          "duration": 0.049849,
          "end_time": "2020-10-01T13:57:06.495839",
          "exception": false,
          "start_time": "2020-10-01T13:57:06.445990",
          "status": "completed"
        },
        "tags": [],
        "id": "1Cxkb_r2UkGs"
      },
      "source": [
        "### SPLITTING THE DATA FOR TRAIN AND TEST\n",
        "Using the train test split X and y are splitted to 80:20 ratio . "
      ]
    },
    {
      "cell_type": "code",
      "metadata": {
        "execution": {
          "iopub.execute_input": "2020-10-01T13:57:06.602612Z",
          "iopub.status.busy": "2020-10-01T13:57:06.601637Z",
          "iopub.status.idle": "2020-10-01T13:57:07.743868Z",
          "shell.execute_reply": "2020-10-01T13:57:07.743224Z"
        },
        "papermill": {
          "duration": 1.20027,
          "end_time": "2020-10-01T13:57:07.743992",
          "exception": false,
          "start_time": "2020-10-01T13:57:06.543722",
          "status": "completed"
        },
        "tags": [],
        "id": "JjvAXXxAUkGv"
      },
      "source": [
        "from sklearn.model_selection import train_test_split\n",
        "def split_train_test(X,y):\n",
        "  X_train , X_test , y_train , y_test = train_test_split(X,y,test_size=0.3)\n",
        "  return X_train , X_test , y_train , y_test\n",
        "\n",
        "X_train_idf , X_test_idf , y_train_idf , y_test_idf = split_train_test(X_tfidf, y_ifidf)"
      ],
      "execution_count": null,
      "outputs": []
    },
    {
      "cell_type": "markdown",
      "metadata": {
        "papermill": {
          "duration": 0.033442,
          "end_time": "2020-10-01T13:57:07.811158",
          "exception": false,
          "start_time": "2020-10-01T13:57:07.777716",
          "status": "completed"
        },
        "tags": [],
        "id": "7c9e3SqwUkG_"
      },
      "source": [
        "### ACCURACY AND CLASSIFICATION REPORT FUNCTION"
      ]
    },
    {
      "cell_type": "code",
      "metadata": {
        "execution": {
          "iopub.execute_input": "2020-10-01T13:57:07.883376Z",
          "iopub.status.busy": "2020-10-01T13:57:07.882718Z",
          "iopub.status.idle": "2020-10-01T13:57:07.887128Z",
          "shell.execute_reply": "2020-10-01T13:57:07.886600Z"
        },
        "papermill": {
          "duration": 0.043009,
          "end_time": "2020-10-01T13:57:07.887260",
          "exception": false,
          "start_time": "2020-10-01T13:57:07.844251",
          "status": "completed"
        },
        "tags": [],
        "id": "6WOfDgUGUkHB"
      },
      "source": [
        "from sklearn.metrics import classification_report\n",
        "from sklearn.metrics import accuracy_score\n",
        "def accuracy_check(model,data,label):\n",
        "  y_pred = model.predict(data)\n",
        "  print(classification_report(label , y_pred)) \n",
        "  accuracy = accuracy_score(label , y_pred)\n",
        "  return accuracy"
      ],
      "execution_count": null,
      "outputs": []
    },
    {
      "cell_type": "code",
      "metadata": {
        "execution": {
          "iopub.execute_input": "2020-10-01T13:57:07.956997Z",
          "iopub.status.busy": "2020-10-01T13:57:07.956117Z",
          "iopub.status.idle": "2020-10-01T13:57:08.429370Z",
          "shell.execute_reply": "2020-10-01T13:57:08.430008Z"
        },
        "papermill": {
          "duration": 0.510784,
          "end_time": "2020-10-01T13:57:08.430167",
          "exception": false,
          "start_time": "2020-10-01T13:57:07.919383",
          "status": "completed"
        },
        "tags": [],
        "id": "YS1rsMvyUkHc"
      },
      "source": [
        "from sklearn.naive_bayes import MultinomialNB\n",
        "nb_idf = MultinomialNB()\n",
        "nb_idf.fit(X_train_idf , y_train_idf)\n",
        "nb_idf_accuracy = accuracy_check(nb_idf , X_test_idf , y_test_idf)\n",
        "print(nb_idf_accuracy)"
      ],
      "execution_count": null,
      "outputs": []
    },
    {
      "cell_type": "markdown",
      "metadata": {
        "papermill": {
          "duration": 0.032568,
          "end_time": "2020-10-01T13:57:08.496642",
          "exception": false,
          "start_time": "2020-10-01T13:57:08.464074",
          "status": "completed"
        },
        "tags": [],
        "id": "Ch6OAT1GUkHt"
      },
      "source": [
        "### MODEL PERFORMANCE\n",
        "The accuracy hit is nearly 67% on the test data . \n",
        "<br> For the final model the complete data could be provided . "
      ]
    },
    {
      "cell_type": "markdown",
      "metadata": {
        "papermill": {
          "duration": 0.031945,
          "end_time": "2020-10-01T13:57:08.560863",
          "exception": false,
          "start_time": "2020-10-01T13:57:08.528918",
          "status": "completed"
        },
        "tags": [],
        "id": "ewfaxB1CUkHv"
      },
      "source": [
        "#### A FUNCTION TO KNOW APPROPRIATE VALUE OF ALPHA(Hyperparameter)"
      ]
    },
    {
      "cell_type": "code",
      "metadata": {
        "execution": {
          "iopub.execute_input": "2020-10-01T13:57:08.635779Z",
          "iopub.status.busy": "2020-10-01T13:57:08.634616Z",
          "iopub.status.idle": "2020-10-01T13:57:13.195950Z",
          "shell.execute_reply": "2020-10-01T13:57:13.196471Z"
        },
        "papermill": {
          "duration": 4.603965,
          "end_time": "2020-10-01T13:57:13.196617",
          "exception": false,
          "start_time": "2020-10-01T13:57:08.592652",
          "status": "completed"
        },
        "tags": [],
        "id": "vR9PD87wUkHx"
      },
      "source": [
        "def optimization_idf(X_train_idf , X_test_idf , y_train_idf , y_test_idf):\n",
        "  best_accuracy = 0.0\n",
        "  alpha_val = 0.0\n",
        "  for i in np.arange(0.1,1.1,0.1):\n",
        "    temp_classifier = MultinomialNB(alpha=i)\n",
        "    temp_classifier.fit(X_train_idf, y_train_idf)\n",
        "    temp_y_pred = temp_classifier.predict(X_test_idf)\n",
        "    score = accuracy_score(y_test_idf, temp_y_pred)\n",
        "    print(\"Accuracy score for alpha={} is: {}%\".format(round(i,1), round(score*100,2)))\n",
        "    if score>best_accuracy:\n",
        "      best_accuracy = score\n",
        "      alpha_val = i\n",
        "  print('The best accuracy is {}% with alpha value as {}'.format(round(best_accuracy*100, 2), round(alpha_val,1)))\n",
        "  return alpha_val\n",
        "\n",
        "optimal_value_idf = optimization_idf(X_train_idf , X_test_idf , y_train_idf , y_test_idf)"
      ],
      "execution_count": null,
      "outputs": []
    },
    {
      "cell_type": "code",
      "metadata": {
        "execution": {
          "iopub.execute_input": "2020-10-01T13:57:13.276916Z",
          "iopub.status.busy": "2020-10-01T13:57:13.275801Z",
          "iopub.status.idle": "2020-10-01T13:57:13.589269Z",
          "shell.execute_reply": "2020-10-01T13:57:13.589797Z"
        },
        "papermill": {
          "duration": 0.355253,
          "end_time": "2020-10-01T13:57:13.589931",
          "exception": false,
          "start_time": "2020-10-01T13:57:13.234678",
          "status": "completed"
        },
        "tags": [],
        "id": "xyXngB4YUkIC"
      },
      "source": [
        "ml_model_final = MultinomialNB(alpha = 0.2)\n",
        "ml_model_final.fit(X_tfidf , y_ifidf)"
      ],
      "execution_count": null,
      "outputs": []
    },
    {
      "cell_type": "markdown",
      "metadata": {
        "papermill": {
          "duration": 0.036407,
          "end_time": "2020-10-01T13:57:13.662869",
          "exception": false,
          "start_time": "2020-10-01T13:57:13.626462",
          "status": "completed"
        },
        "tags": [],
        "id": "xqDkGwnPUkIn"
      },
      "source": [
        "### MAKING PREDICTIONS FOR THE TEST DATA"
      ]
    },
    {
      "cell_type": "code",
      "metadata": {
        "execution": {
          "iopub.execute_input": "2020-10-01T13:57:13.741085Z",
          "iopub.status.busy": "2020-10-01T13:57:13.740342Z",
          "iopub.status.idle": "2020-10-01T13:57:13.776094Z",
          "shell.execute_reply": "2020-10-01T13:57:13.775348Z"
        },
        "papermill": {
          "duration": 0.077867,
          "end_time": "2020-10-01T13:57:13.776225",
          "exception": false,
          "start_time": "2020-10-01T13:57:13.698358",
          "status": "completed"
        },
        "tags": [],
        "id": "4bVROeHBUkIp"
      },
      "source": [
        "test_data = pd.read_csv('test.csv')"
      ],
      "execution_count": null,
      "outputs": []
    },
    {
      "cell_type": "code",
      "metadata": {
        "execution": {
          "iopub.execute_input": "2020-10-01T13:57:13.862774Z",
          "iopub.status.busy": "2020-10-01T13:57:13.861875Z",
          "iopub.status.idle": "2020-10-01T13:57:13.867671Z",
          "shell.execute_reply": "2020-10-01T13:57:13.867084Z"
        },
        "papermill": {
          "duration": 0.05348,
          "end_time": "2020-10-01T13:57:13.867780",
          "exception": false,
          "start_time": "2020-10-01T13:57:13.814300",
          "status": "completed"
        },
        "tags": [],
        "id": "3QuvwNAmUkIz"
      },
      "source": [
        "test_data.head(3)"
      ],
      "execution_count": null,
      "outputs": []
    },
    {
      "cell_type": "markdown",
      "metadata": {
        "papermill": {
          "duration": 0.03932,
          "end_time": "2020-10-01T13:57:13.946380",
          "exception": false,
          "start_time": "2020-10-01T13:57:13.907060",
          "status": "completed"
        },
        "tags": [],
        "id": "_9hgyITFUkJF"
      },
      "source": [
        "<br>The smae function use to convert into corpus . \n",
        "<br>The tfidf defined previously used for transformation . "
      ]
    },
    {
      "cell_type": "code",
      "metadata": {
        "execution": {
          "iopub.execute_input": "2020-10-01T13:57:14.031543Z",
          "iopub.status.busy": "2020-10-01T13:57:14.030566Z",
          "iopub.status.idle": "2020-10-01T13:57:53.768106Z",
          "shell.execute_reply": "2020-10-01T13:57:53.767430Z"
        },
        "papermill": {
          "duration": 39.781981,
          "end_time": "2020-10-01T13:57:53.768233",
          "exception": false,
          "start_time": "2020-10-01T13:57:13.986252",
          "status": "completed"
        },
        "tags": [],
        "id": "8uVt7RTjUkJG"
      },
      "source": [
        "corpus_test = prepare_corpus(test_data)\n",
        "vectors = tfidf.transform(corpus_test).toarray()"
      ],
      "execution_count": null,
      "outputs": []
    },
    {
      "cell_type": "code",
      "metadata": {
        "execution": {
          "iopub.execute_input": "2020-10-01T13:57:53.847980Z",
          "iopub.status.busy": "2020-10-01T13:57:53.846961Z",
          "iopub.status.idle": "2020-10-01T13:57:54.152392Z",
          "shell.execute_reply": "2020-10-01T13:57:54.151751Z"
        },
        "papermill": {
          "duration": 0.346775,
          "end_time": "2020-10-01T13:57:54.152520",
          "exception": false,
          "start_time": "2020-10-01T13:57:53.805745",
          "status": "completed"
        },
        "tags": [],
        "id": "qFMShMQeUkJX"
      },
      "source": [
        "answer = ml_model_final.predict(vectors)"
      ],
      "execution_count": null,
      "outputs": []
    },
    {
      "cell_type": "code",
      "metadata": {
        "execution": {
          "iopub.execute_input": "2020-10-01T13:57:54.242367Z",
          "iopub.status.busy": "2020-10-01T13:57:54.241333Z",
          "iopub.status.idle": "2020-10-01T13:57:54.246682Z",
          "shell.execute_reply": "2020-10-01T13:57:54.245942Z"
        },
        "papermill": {
          "duration": 0.055008,
          "end_time": "2020-10-01T13:57:54.246807",
          "exception": false,
          "start_time": "2020-10-01T13:57:54.191799",
          "status": "completed"
        },
        "tags": [],
        "id": "tFqPjwtmUkJl"
      },
      "source": [
        "submission = test_data\n",
        "submission.head(3)"
      ],
      "execution_count": null,
      "outputs": []
    },
    {
      "cell_type": "code",
      "metadata": {
        "execution": {
          "iopub.execute_input": "2020-10-01T13:57:54.332102Z",
          "iopub.status.busy": "2020-10-01T13:57:54.331249Z",
          "iopub.status.idle": "2020-10-01T13:57:54.334821Z",
          "shell.execute_reply": "2020-10-01T13:57:54.334248Z"
        },
        "papermill": {
          "duration": 0.047874,
          "end_time": "2020-10-01T13:57:54.334924",
          "exception": false,
          "start_time": "2020-10-01T13:57:54.287050",
          "status": "completed"
        },
        "tags": [],
        "id": "1KPOg1p9UkJw"
      },
      "source": [
        "submission['sentiment'] = answer"
      ],
      "execution_count": null,
      "outputs": []
    },
    {
      "cell_type": "markdown",
      "metadata": {
        "papermill": {
          "duration": 0.038443,
          "end_time": "2020-10-01T13:57:54.413044",
          "exception": false,
          "start_time": "2020-10-01T13:57:54.374601",
          "status": "completed"
        },
        "tags": [],
        "id": "XIc5lWLlUkJ5"
      },
      "source": [
        "### FINAL CHECKS"
      ]
    },
    {
      "cell_type": "code",
      "metadata": {
        "execution": {
          "iopub.execute_input": "2020-10-01T13:57:54.501398Z",
          "iopub.status.busy": "2020-10-01T13:57:54.500562Z",
          "iopub.status.idle": "2020-10-01T13:57:54.504455Z",
          "shell.execute_reply": "2020-10-01T13:57:54.504985Z"
        },
        "papermill": {
          "duration": 0.054068,
          "end_time": "2020-10-01T13:57:54.505114",
          "exception": false,
          "start_time": "2020-10-01T13:57:54.451046",
          "status": "completed"
        },
        "tags": [],
        "id": "Mq0ZrRKCUkJ6"
      },
      "source": [
        "submission.head()"
      ],
      "execution_count": null,
      "outputs": []
    },
    {
      "cell_type": "code",
      "metadata": {
        "execution": {
          "iopub.execute_input": "2020-10-01T13:57:54.601827Z",
          "iopub.status.busy": "2020-10-01T13:57:54.600947Z",
          "iopub.status.idle": "2020-10-01T13:57:54.606226Z",
          "shell.execute_reply": "2020-10-01T13:57:54.605725Z"
        },
        "papermill": {
          "duration": 0.060781,
          "end_time": "2020-10-01T13:57:54.606329",
          "exception": false,
          "start_time": "2020-10-01T13:57:54.545548",
          "status": "completed"
        },
        "tags": [],
        "id": "c8wMU0SrUkKR"
      },
      "source": [
        "ones = [ans for ans in answer if ans==1]\n",
        "len(ones)"
      ],
      "execution_count": null,
      "outputs": []
    },
    {
      "cell_type": "code",
      "metadata": {
        "execution": {
          "iopub.execute_input": "2020-10-01T13:57:54.692394Z",
          "iopub.status.busy": "2020-10-01T13:57:54.691441Z",
          "iopub.status.idle": "2020-10-01T13:57:54.823756Z",
          "shell.execute_reply": "2020-10-01T13:57:54.824337Z"
        },
        "papermill": {
          "duration": 0.178369,
          "end_time": "2020-10-01T13:57:54.824490",
          "exception": false,
          "start_time": "2020-10-01T13:57:54.646121",
          "status": "completed"
        },
        "tags": [],
        "id": "kV_iK2tUUkKb"
      },
      "source": [
        "import seaborn as sns\n",
        "sns.countplot(submission['sentiment'])"
      ],
      "execution_count": null,
      "outputs": []
    },
    {
      "cell_type": "code",
      "metadata": {
        "id": "RKaeXw5kZIZ2"
      },
      "source": [
        "prediction = submission.filter(['tweetid','sentiment'], axis=1)"
      ],
      "execution_count": null,
      "outputs": []
    },
    {
      "cell_type": "code",
      "metadata": {
        "execution": {
          "iopub.execute_input": "2020-10-01T13:57:54.911224Z",
          "iopub.status.busy": "2020-10-01T13:57:54.910301Z",
          "iopub.status.idle": "2020-10-01T13:57:55.297583Z",
          "shell.execute_reply": "2020-10-01T13:57:55.296657Z"
        },
        "papermill": {
          "duration": 0.432145,
          "end_time": "2020-10-01T13:57:55.297706",
          "exception": false,
          "start_time": "2020-10-01T13:57:54.865561",
          "status": "completed"
        },
        "tags": [],
        "id": "ln69fzDEUkKq"
      },
      "source": [
        "prediction.to_csv('submissionnb.csv' , index=False)"
      ],
      "execution_count": null,
      "outputs": []
    }
  ]
}